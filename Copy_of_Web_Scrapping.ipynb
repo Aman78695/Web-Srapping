{
  "nbformat": 4,
  "nbformat_minor": 0,
  "metadata": {
    "colab": {
      "provenance": [],
      "authorship_tag": "ABX9TyN0RAeptsAwUCL4HqUf4zBa",
      "include_colab_link": true
    },
    "kernelspec": {
      "name": "python3",
      "display_name": "Python 3"
    },
    "language_info": {
      "name": "python"
    }
  },
  "cells": [
    {
      "cell_type": "markdown",
      "metadata": {
        "id": "view-in-github",
        "colab_type": "text"
      },
      "source": [
        "<a href=\"https://colab.research.google.com/github/Aman78695/Web-Srapping/blob/main/Copy_of_Web_Scrapping.ipynb\" target=\"_parent\"><img src=\"https://colab.research.google.com/assets/colab-badge.svg\" alt=\"Open In Colab\"/></a>"
      ]
    },
    {
      "cell_type": "code",
      "execution_count": null,
      "metadata": {
        "id": "FB55mLrOj_AX"
      },
      "outputs": [],
      "source": [
        "import pandas as pd\n",
        "import requests\n",
        "from bs4 import BeautifulSoup"
      ]
    },
    {
      "cell_type": "code",
      "source": [
        "header={'user-agent': 'Mozilla/5.0 (Macintosh; Intel Mac OS X 10_15_7) AppleWebKit/537.36 (KHTML, like Gecko) Chrome/101.0.4951.64 Safari/537.36 Edg/101.0.1210.47'}\n",
        "web=requests.get('https://www.ambitionbox.com/list-of-companies?page=1',headers=header).text"
      ],
      "metadata": {
        "id": "BsXDNUuikX0N"
      },
      "execution_count": null,
      "outputs": []
    },
    {
      "cell_type": "code",
      "source": [
        "soup=BeautifulSoup(web,'lxml')"
      ],
      "metadata": {
        "id": "G1fdfCVrnwdD"
      },
      "execution_count": null,
      "outputs": []
    },
    {
      "cell_type": "code",
      "source": [
        "soup.prettify"
      ],
      "metadata": {
        "id": "jvC5PKs4n4Oo"
      },
      "execution_count": null,
      "outputs": []
    },
    {
      "cell_type": "code",
      "source": [
        "soup.find_all('h1')"
      ],
      "metadata": {
        "colab": {
          "base_uri": "https://localhost:8080/"
        },
        "id": "EwfzTHCPoW14",
        "outputId": "7e29694e-20f9-4114-8059-3d6c8db8a8be"
      },
      "execution_count": null,
      "outputs": [
        {
          "output_type": "execute_result",
          "data": {
            "text/plain": [
              "[<h1 class=\"bold-title-l title\">List of companies in India</h1>]"
            ]
          },
          "metadata": {},
          "execution_count": 11
        }
      ]
    },
    {
      "cell_type": "code",
      "source": [
        "soup.find_all('h1')[0]"
      ],
      "metadata": {
        "colab": {
          "base_uri": "https://localhost:8080/"
        },
        "id": "1_s0eUhiohvE",
        "outputId": "e86e6066-7dd7-40da-caf8-56a17cb9e4fb"
      },
      "execution_count": null,
      "outputs": [
        {
          "output_type": "execute_result",
          "data": {
            "text/plain": [
              "<h1 class=\"bold-title-l title\">List of companies in India</h1>"
            ]
          },
          "metadata": {},
          "execution_count": 12
        }
      ]
    },
    {
      "cell_type": "code",
      "source": [
        "soup.find_all('h1')[0].text"
      ],
      "metadata": {
        "colab": {
          "base_uri": "https://localhost:8080/",
          "height": 36
        },
        "id": "mtRii9kgolE0",
        "outputId": "780a2daa-3baf-4273-cbe0-93666957c879"
      },
      "execution_count": null,
      "outputs": [
        {
          "output_type": "execute_result",
          "data": {
            "text/plain": [
              "'List of companies in India'"
            ],
            "application/vnd.google.colaboratory.intrinsic+json": {
              "type": "string"
            }
          },
          "metadata": {},
          "execution_count": 13
        }
      ]
    },
    {
      "cell_type": "code",
      "source": [
        "soup.find_all('h2')"
      ],
      "metadata": {
        "colab": {
          "base_uri": "https://localhost:8080/"
        },
        "id": "8C7kyA4QoroP",
        "outputId": "31e1a8bb-f59a-4cbf-fd15-622bc3ee0ca1"
      },
      "execution_count": null,
      "outputs": [
        {
          "output_type": "execute_result",
          "data": {
            "text/plain": [
              "[<h2 class=\"company-name bold-title-l\" title=\"TCS\">\n",
              " \t\t\t\t\t\t\t\t\tTCS\n",
              " \t\t\t\t\t\t\t\t</h2>, <h2 class=\"company-name bold-title-l\" title=\"Accenture\">\n",
              " \t\t\t\t\t\t\t\t\tAccenture\n",
              " \t\t\t\t\t\t\t\t</h2>, <h2 class=\"company-name bold-title-l\" title=\"Cognizant\">\n",
              " \t\t\t\t\t\t\t\t\tCognizant\n",
              " \t\t\t\t\t\t\t\t</h2>, <h2 class=\"company-name bold-title-l\" title=\"ICICI Bank\">\n",
              " \t\t\t\t\t\t\t\t\tICICI Bank\n",
              " \t\t\t\t\t\t\t\t</h2>, <h2 class=\"company-name bold-title-l\" title=\"HDFC Bank\">\n",
              " \t\t\t\t\t\t\t\t\tHDFC Bank\n",
              " \t\t\t\t\t\t\t\t</h2>, <h2 class=\"company-name bold-title-l\" title=\"Wipro\">\n",
              " \t\t\t\t\t\t\t\t\tWipro\n",
              " \t\t\t\t\t\t\t\t</h2>, <h2 class=\"company-name bold-title-l\" title=\"Infosys\">\n",
              " \t\t\t\t\t\t\t\t\tInfosys\n",
              " \t\t\t\t\t\t\t\t</h2>, <h2 class=\"company-name bold-title-l\" title=\"Capgemini\">\n",
              " \t\t\t\t\t\t\t\t\tCapgemini\n",
              " \t\t\t\t\t\t\t\t</h2>, <h2 class=\"company-name bold-title-l\" title=\"Tech Mahindra\">\n",
              " \t\t\t\t\t\t\t\t\tTech Mahindra\n",
              " \t\t\t\t\t\t\t\t</h2>, <h2 class=\"company-name bold-title-l\" title=\"Genpact\">\n",
              " \t\t\t\t\t\t\t\t\tGenpact\n",
              " \t\t\t\t\t\t\t\t</h2>, <h2 class=\"company-name bold-title-l\" title=\"HCLTech\">\n",
              " \t\t\t\t\t\t\t\t\tHCLTech\n",
              " \t\t\t\t\t\t\t\t</h2>, <h2 class=\"company-name bold-title-l\" title=\"Amazon\">\n",
              " \t\t\t\t\t\t\t\t\tAmazon\n",
              " \t\t\t\t\t\t\t\t</h2>, <h2 class=\"company-name bold-title-l\" title=\"Axis Bank\">\n",
              " \t\t\t\t\t\t\t\t\tAxis Bank\n",
              " \t\t\t\t\t\t\t\t</h2>, <h2 class=\"company-name bold-title-l\" title=\"Concentrix Corporation\">\n",
              " \t\t\t\t\t\t\t\t\tConcentrix Corpo...\n",
              " \t\t\t\t\t\t\t\t</h2>, <h2 class=\"company-name bold-title-l\" title=\"IBM\">\n",
              " \t\t\t\t\t\t\t\t\tIBM\n",
              " \t\t\t\t\t\t\t\t</h2>, <h2 class=\"company-name bold-title-l\" title=\"Reliance jio\">\n",
              " \t\t\t\t\t\t\t\t\tReliance jio\n",
              " \t\t\t\t\t\t\t\t</h2>, <h2 class=\"company-name bold-title-l\" title=\"Larsen &amp; Toubro Limited\">\n",
              " \t\t\t\t\t\t\t\t\tLarsen &amp; Toubro ...\n",
              " \t\t\t\t\t\t\t\t</h2>, <h2 class=\"company-name bold-title-l\" title=\"HDB Financial Services\">\n",
              " \t\t\t\t\t\t\t\t\tHDB Financial Se...\n",
              " \t\t\t\t\t\t\t\t</h2>, <h2 class=\"company-name bold-title-l\" title=\"Vodafone Idea\">\n",
              " \t\t\t\t\t\t\t\t\tVodafone Idea\n",
              " \t\t\t\t\t\t\t\t</h2>, <h2 class=\"company-name bold-title-l\" title=\"Teleperformance\">\n",
              " \t\t\t\t\t\t\t\t\tTeleperformance\n",
              " \t\t\t\t\t\t\t\t</h2>, <h2 class=\"company-name bold-title-l\" title=\"Reliance Retail\">\n",
              " \t\t\t\t\t\t\t\t\tReliance Retail\n",
              " \t\t\t\t\t\t\t\t</h2>, <h2 class=\"company-name bold-title-l\" title=\"Kotak Mahindra Bank\">\n",
              " \t\t\t\t\t\t\t\t\tKotak Mahindra B...\n",
              " \t\t\t\t\t\t\t\t</h2>, <h2 class=\"company-name bold-title-l\" title=\"Deloitte\">\n",
              " \t\t\t\t\t\t\t\t\tDeloitte\n",
              " \t\t\t\t\t\t\t\t</h2>, <h2 class=\"company-name bold-title-l\" title=\"Reliance Industries \">\n",
              " \t\t\t\t\t\t\t\t\tReliance Industr...\n",
              " \t\t\t\t\t\t\t\t</h2>, <h2 class=\"company-name bold-title-l\" title=\"Bharti Airtel\">\n",
              " \t\t\t\t\t\t\t\t\tBharti Airtel\n",
              " \t\t\t\t\t\t\t\t</h2>, <h2 class=\"company-name bold-title-l\" title=\"BYJU'S\">\n",
              " \t\t\t\t\t\t\t\t\tBYJU'S\n",
              " \t\t\t\t\t\t\t\t</h2>, <h2 class=\"company-name bold-title-l\" title=\"Tata Motors\">\n",
              " \t\t\t\t\t\t\t\t\tTata Motors\n",
              " \t\t\t\t\t\t\t\t</h2>, <h2 class=\"company-name bold-title-l\" title=\"Flipkart\">\n",
              " \t\t\t\t\t\t\t\t\tFlipkart\n",
              " \t\t\t\t\t\t\t\t</h2>, <h2 class=\"company-name bold-title-l\" title=\"WNS\">\n",
              " \t\t\t\t\t\t\t\t\tWNS\n",
              " \t\t\t\t\t\t\t\t</h2>, <h2 class=\"company-name bold-title-l\" title=\"Mahindra &amp; Mahindra\">\n",
              " \t\t\t\t\t\t\t\t\tMahindra &amp; Mahin...\n",
              " \t\t\t\t\t\t\t\t</h2>]"
            ]
          },
          "metadata": {},
          "execution_count": 14
        }
      ]
    },
    {
      "cell_type": "code",
      "source": [
        "#printing all companies namme\n",
        "for i in soup.find_all('h2'):\n",
        "  print(i.text.strip())"
      ],
      "metadata": {
        "id": "n0DudvW_o9mD"
      },
      "execution_count": null,
      "outputs": []
    },
    {
      "cell_type": "code",
      "source": [
        "#printing the rating for all companies\n",
        "for i in soup.find_all('p',class_='rating'):\n",
        "  print(i.text.strip())"
      ],
      "metadata": {
        "id": "MYAteEXjqrNf"
      },
      "execution_count": null,
      "outputs": []
    },
    {
      "cell_type": "code",
      "source": [
        "#printing reviews\n",
        "for i in soup.find_all('a',class_='review'):\n",
        "  print(i.text.strip())"
      ],
      "metadata": {
        "id": "MKbzZ9VbrrG5"
      },
      "execution_count": null,
      "outputs": []
    },
    {
      "cell_type": "markdown",
      "source": [
        "## #We will extract all the information from company profile"
      ],
      "metadata": {
        "id": "DLWgtrXpsjNn"
      }
    },
    {
      "cell_type": "code",
      "source": [
        "company=soup.find_all('div',class_='company-info-wrapper')\n",
        "len(company)"
      ],
      "metadata": {
        "colab": {
          "base_uri": "https://localhost:8080/"
        },
        "id": "ojKvzDZbsixk",
        "outputId": "5b0dedf6-f6cb-4b03-e258-2cd4b38d6d0d"
      },
      "execution_count": null,
      "outputs": [
        {
          "output_type": "execute_result",
          "data": {
            "text/plain": [
              "30"
            ]
          },
          "metadata": {},
          "execution_count": 28
        }
      ]
    },
    {
      "cell_type": "code",
      "source": [
        "#printing all companies namme\n",
        "name=[]\n",
        "for i in company:\n",
        "  name.append(i.find('h2').text.strip())\n",
        "name"
      ],
      "metadata": {
        "id": "nPPvWqhFtDu2"
      },
      "execution_count": null,
      "outputs": []
    },
    {
      "cell_type": "code",
      "source": [
        "#printing the rating for all companies\n",
        "rating=[]\n",
        "for i in company:\n",
        "  rating.append(i.find('p').text.strip())\n",
        "rating"
      ],
      "metadata": {
        "id": "mc6OX7RcuXyq"
      },
      "execution_count": null,
      "outputs": []
    },
    {
      "cell_type": "code",
      "source": [
        "#printing reviews\n",
        "reviews=[]\n",
        "for i in company:\n",
        "  reviews.append(i.find('a',class_='review-count').text.strip())\n",
        "reviews"
      ],
      "metadata": {
        "id": "hn_ZgANPwJfQ"
      },
      "execution_count": null,
      "outputs": []
    },
    {
      "cell_type": "code",
      "source": [
        "#printing status whether public or private\n",
        "status=[]\n",
        "for i in company:\n",
        "  status.append(i.find_all('p','infoEntity')[0].text.strip())\n",
        "status"
      ],
      "metadata": {
        "id": "yAEGyDhrxuxg"
      },
      "execution_count": null,
      "outputs": []
    },
    {
      "cell_type": "code",
      "source": [
        "#printing city name\n",
        "city=[]\n",
        "for i in company:\n",
        "  city.append(i.find_all('p','infoEntity')[1].text.strip())\n",
        "city"
      ],
      "metadata": {
        "id": "ba5hzsukyUOp"
      },
      "execution_count": null,
      "outputs": []
    }
  ]
}